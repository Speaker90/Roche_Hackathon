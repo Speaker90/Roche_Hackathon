{
 "cells": [
  {
   "cell_type": "code",
   "execution_count": 241,
   "metadata": {},
   "outputs": [],
   "source": [
    "%matplotlib inline\n",
    "import sys\n",
    "import os\n",
    "import numpy as np\n",
    "import pandas as pd\n",
    "import seaborn as sns\n",
    "import sklearn\n",
    "import matplotlib.pyplot as plt\n",
    "\n",
    "from sklearn import metrics\n",
    "from sklearn import preprocessing\n",
    "from sklearn.preprocessing import scale\n",
    "from sklearn.cluster import KMeans\n",
    "from sklearn.cluster import Birch\n",
    "from sklearn.cluster import AgglomerativeClustering\n",
    "from sklearn.decomposition import PCA\n",
    "from sklearn.model_selection import train_test_split\n",
    "from sklearn.svm import SVC\n",
    "from sklearn import tree\n",
    "from sklearn.metrics import accuracy_score\n",
    "from sklearn.naive_bayes import BernoulliNB\n",
    "from sklearn.metrics import confusion_matrix\n",
    "from sklearn.metrics import precision_score\n",
    "from sklearn.metrics import recall_score\n",
    "from sklearn.ensemble import VotingClassifier"
   ]
  },
  {
   "cell_type": "code",
   "execution_count": 242,
   "metadata": {},
   "outputs": [],
   "source": [
    "sns.set()"
   ]
  },
  {
   "cell_type": "markdown",
   "metadata": {},
   "source": [
    "## Import phenotypic data"
   ]
  },
  {
   "cell_type": "code",
   "execution_count": 243,
   "metadata": {},
   "outputs": [
    {
     "name": "stdout",
     "output_type": "stream",
     "text": [
      "(700, 29)\n"
     ]
    },
    {
     "data": {
      "text/html": [
       "<div>\n",
       "<style scoped>\n",
       "    .dataframe tbody tr th:only-of-type {\n",
       "        vertical-align: middle;\n",
       "    }\n",
       "\n",
       "    .dataframe tbody tr th {\n",
       "        vertical-align: top;\n",
       "    }\n",
       "\n",
       "    .dataframe thead th {\n",
       "        text-align: right;\n",
       "    }\n",
       "</style>\n",
       "<table border=\"1\" class=\"dataframe\">\n",
       "  <thead>\n",
       "    <tr style=\"text-align: right;\">\n",
       "      <th></th>\n",
       "      <th>subject</th>\n",
       "      <th>DX_GROUP</th>\n",
       "      <th>SITE_ID</th>\n",
       "      <th>AGE_AT_SCAN</th>\n",
       "      <th>SEX</th>\n",
       "      <th>HANDEDNESS_CATEGORY</th>\n",
       "      <th>HANDEDNESS_SCORES</th>\n",
       "      <th>FIQ</th>\n",
       "      <th>VIQ</th>\n",
       "      <th>PIQ</th>\n",
       "      <th>...</th>\n",
       "      <th>func_efc</th>\n",
       "      <th>func_fber</th>\n",
       "      <th>func_fwhm</th>\n",
       "      <th>func_dvars</th>\n",
       "      <th>func_outlier</th>\n",
       "      <th>func_quality</th>\n",
       "      <th>func_mean_fd</th>\n",
       "      <th>func_num_fd</th>\n",
       "      <th>func_perc_fd</th>\n",
       "      <th>func_gsr</th>\n",
       "    </tr>\n",
       "  </thead>\n",
       "  <tbody>\n",
       "    <tr>\n",
       "      <th>0</th>\n",
       "      <td>50992</td>\n",
       "      <td>1</td>\n",
       "      <td>NYU</td>\n",
       "      <td>10.6600</td>\n",
       "      <td>1</td>\n",
       "      <td>NaN</td>\n",
       "      <td>27.00</td>\n",
       "      <td>118.0</td>\n",
       "      <td>106.0</td>\n",
       "      <td>129.0</td>\n",
       "      <td>...</td>\n",
       "      <td>0.494116</td>\n",
       "      <td>139.773112</td>\n",
       "      <td>1.862470</td>\n",
       "      <td>1.045963</td>\n",
       "      <td>0.007709</td>\n",
       "      <td>0.012301</td>\n",
       "      <td>0.088934</td>\n",
       "      <td>14.0</td>\n",
       "      <td>7.734807</td>\n",
       "      <td>-0.008654</td>\n",
       "    </tr>\n",
       "    <tr>\n",
       "      <th>1</th>\n",
       "      <td>50502</td>\n",
       "      <td>1</td>\n",
       "      <td>USM</td>\n",
       "      <td>32.9582</td>\n",
       "      <td>1</td>\n",
       "      <td>NaN</td>\n",
       "      <td>80.00</td>\n",
       "      <td>90.0</td>\n",
       "      <td>101.0</td>\n",
       "      <td>83.0</td>\n",
       "      <td>...</td>\n",
       "      <td>0.545198</td>\n",
       "      <td>70.912103</td>\n",
       "      <td>1.903566</td>\n",
       "      <td>1.059806</td>\n",
       "      <td>0.000560</td>\n",
       "      <td>0.016762</td>\n",
       "      <td>0.105971</td>\n",
       "      <td>8.0</td>\n",
       "      <td>3.319502</td>\n",
       "      <td>0.038568</td>\n",
       "    </tr>\n",
       "    <tr>\n",
       "      <th>2</th>\n",
       "      <td>51303</td>\n",
       "      <td>2</td>\n",
       "      <td>UCLA_2</td>\n",
       "      <td>13.0000</td>\n",
       "      <td>2</td>\n",
       "      <td>R</td>\n",
       "      <td>NaN</td>\n",
       "      <td>99.0</td>\n",
       "      <td>95.0</td>\n",
       "      <td>103.0</td>\n",
       "      <td>...</td>\n",
       "      <td>0.556980</td>\n",
       "      <td>77.080155</td>\n",
       "      <td>1.962941</td>\n",
       "      <td>1.234783</td>\n",
       "      <td>0.000880</td>\n",
       "      <td>0.004220</td>\n",
       "      <td>0.031307</td>\n",
       "      <td>0.0</td>\n",
       "      <td>0.000000</td>\n",
       "      <td>0.033496</td>\n",
       "    </tr>\n",
       "    <tr>\n",
       "      <th>3</th>\n",
       "      <td>50515</td>\n",
       "      <td>1</td>\n",
       "      <td>USM</td>\n",
       "      <td>15.8522</td>\n",
       "      <td>1</td>\n",
       "      <td>NaN</td>\n",
       "      <td>73.33</td>\n",
       "      <td>94.0</td>\n",
       "      <td>71.0</td>\n",
       "      <td>106.0</td>\n",
       "      <td>...</td>\n",
       "      <td>0.529615</td>\n",
       "      <td>97.692980</td>\n",
       "      <td>1.774941</td>\n",
       "      <td>1.073596</td>\n",
       "      <td>0.000853</td>\n",
       "      <td>0.013464</td>\n",
       "      <td>0.080833</td>\n",
       "      <td>15.0</td>\n",
       "      <td>6.224066</td>\n",
       "      <td>0.028694</td>\n",
       "    </tr>\n",
       "    <tr>\n",
       "      <th>4</th>\n",
       "      <td>51349</td>\n",
       "      <td>1</td>\n",
       "      <td>MAX_MUN</td>\n",
       "      <td>11.0000</td>\n",
       "      <td>1</td>\n",
       "      <td>R</td>\n",
       "      <td>NaN</td>\n",
       "      <td>105.0</td>\n",
       "      <td>NaN</td>\n",
       "      <td>NaN</td>\n",
       "      <td>...</td>\n",
       "      <td>0.577702</td>\n",
       "      <td>80.349009</td>\n",
       "      <td>1.862485</td>\n",
       "      <td>1.024788</td>\n",
       "      <td>0.001711</td>\n",
       "      <td>0.020317</td>\n",
       "      <td>0.133192</td>\n",
       "      <td>38.0</td>\n",
       "      <td>18.905473</td>\n",
       "      <td>0.041147</td>\n",
       "    </tr>\n",
       "  </tbody>\n",
       "</table>\n",
       "<p>5 rows × 29 columns</p>\n",
       "</div>"
      ],
      "text/plain": [
       "   subject  DX_GROUP  SITE_ID  AGE_AT_SCAN  SEX HANDEDNESS_CATEGORY  \\\n",
       "0    50992         1      NYU      10.6600    1                 NaN   \n",
       "1    50502         1      USM      32.9582    1                 NaN   \n",
       "2    51303         2   UCLA_2      13.0000    2                   R   \n",
       "3    50515         1      USM      15.8522    1                 NaN   \n",
       "4    51349         1  MAX_MUN      11.0000    1                   R   \n",
       "\n",
       "   HANDEDNESS_SCORES    FIQ    VIQ    PIQ    ...     func_efc   func_fber  \\\n",
       "0              27.00  118.0  106.0  129.0    ...     0.494116  139.773112   \n",
       "1              80.00   90.0  101.0   83.0    ...     0.545198   70.912103   \n",
       "2                NaN   99.0   95.0  103.0    ...     0.556980   77.080155   \n",
       "3              73.33   94.0   71.0  106.0    ...     0.529615   97.692980   \n",
       "4                NaN  105.0    NaN    NaN    ...     0.577702   80.349009   \n",
       "\n",
       "   func_fwhm  func_dvars  func_outlier  func_quality  func_mean_fd  \\\n",
       "0   1.862470    1.045963      0.007709      0.012301      0.088934   \n",
       "1   1.903566    1.059806      0.000560      0.016762      0.105971   \n",
       "2   1.962941    1.234783      0.000880      0.004220      0.031307   \n",
       "3   1.774941    1.073596      0.000853      0.013464      0.080833   \n",
       "4   1.862485    1.024788      0.001711      0.020317      0.133192   \n",
       "\n",
       "   func_num_fd  func_perc_fd  func_gsr  \n",
       "0         14.0      7.734807 -0.008654  \n",
       "1          8.0      3.319502  0.038568  \n",
       "2          0.0      0.000000  0.033496  \n",
       "3         15.0      6.224066  0.028694  \n",
       "4         38.0     18.905473  0.041147  \n",
       "\n",
       "[5 rows x 29 columns]"
      ]
     },
     "execution_count": 243,
     "metadata": {},
     "output_type": "execute_result"
    }
   ],
   "source": [
    "os.chdir('/Users/annika/Documents/PhD/courses/Roche_Hackathon')\n",
    "data_pheno = pd.read_csv('data/train/train.csv', index_col=0, encoding = 'utf-8')\n",
    "data_pheno.reset_index(inplace=True, drop=True)\n",
    "print(data_pheno.shape)\n",
    "data_pheno.head()"
   ]
  },
  {
   "cell_type": "markdown",
   "metadata": {},
   "source": [
    "## Data exploration"
   ]
  },
  {
   "cell_type": "code",
   "execution_count": 244,
   "metadata": {},
   "outputs": [
    {
     "data": {
      "text/plain": [
       "subject                  int64\n",
       "DX_GROUP                 int64\n",
       "SITE_ID                 object\n",
       "AGE_AT_SCAN            float64\n",
       "SEX                      int64\n",
       "HANDEDNESS_CATEGORY     object\n",
       "HANDEDNESS_SCORES      float64\n",
       "FIQ                    float64\n",
       "VIQ                    float64\n",
       "PIQ                    float64\n",
       "BMI                    float64\n",
       "fn_image_txt            object\n",
       "EYE_STATUS_AT_SCAN       int64\n",
       "anat_cnr               float64\n",
       "anat_efc               float64\n",
       "anat_fber              float64\n",
       "anat_fwhm              float64\n",
       "anat_qi1               float64\n",
       "anat_snr               float64\n",
       "func_efc               float64\n",
       "func_fber              float64\n",
       "func_fwhm              float64\n",
       "func_dvars             float64\n",
       "func_outlier           float64\n",
       "func_quality           float64\n",
       "func_mean_fd           float64\n",
       "func_num_fd            float64\n",
       "func_perc_fd           float64\n",
       "func_gsr               float64\n",
       "dtype: object"
      ]
     },
     "execution_count": 244,
     "metadata": {},
     "output_type": "execute_result"
    }
   ],
   "source": [
    "data_pheno.dtypes"
   ]
  },
  {
   "cell_type": "code",
   "execution_count": 245,
   "metadata": {},
   "outputs": [
    {
     "data": {
      "image/png": "[encoded data removed]",
      "text/plain": [
       "<matplotlib.figure.Figure at 0x1a18305320>"
      ]
     },
     "metadata": {},
     "output_type": "display_data"
    }
   ],
   "source": [
    "data_pheno.HANDEDNESS_SCORES.hist();"
   ]
  },
  {
   "cell_type": "markdown",
   "metadata": {},
   "source": [
    "## Starting cleaning"
   ]
  },
  {
   "cell_type": "code",
   "execution_count": 246,
   "metadata": {},
   "outputs": [
    {
     "data": {
      "text/plain": [
       "subject                False\n",
       "DX_GROUP               False\n",
       "SITE_ID                False\n",
       "AGE_AT_SCAN            False\n",
       "SEX                    False\n",
       "HANDEDNESS_CATEGORY    False\n",
       "HANDEDNESS_SCORES       True\n",
       "FIQ                     True\n",
       "VIQ                     True\n",
       "PIQ                     True\n",
       "BMI                     True\n",
       "fn_image_txt           False\n",
       "EYE_STATUS_AT_SCAN     False\n",
       "anat_cnr               False\n",
       "anat_efc               False\n",
       "anat_fber              False\n",
       "anat_fwhm              False\n",
       "anat_qi1               False\n",
       "anat_snr               False\n",
       "func_efc               False\n",
       "func_fber              False\n",
       "func_fwhm              False\n",
       "func_dvars             False\n",
       "func_outlier           False\n",
       "func_quality           False\n",
       "func_mean_fd           False\n",
       "func_num_fd            False\n",
       "func_perc_fd           False\n",
       "func_gsr               False\n",
       "dtype: bool"
      ]
     },
     "execution_count": 246,
     "metadata": {},
     "output_type": "execute_result"
    }
   ],
   "source": [
    "data_pheno.apply(lambda x: np.any(x==-9999))"
   ]
  },
  {
   "cell_type": "code",
   "execution_count": 247,
   "metadata": {},
   "outputs": [],
   "source": [
    "clean = data_pheno.copy()"
   ]
  },
  {
   "cell_type": "markdown",
   "metadata": {},
   "source": [
    "### Replace -9999 with NaN"
   ]
  },
  {
   "cell_type": "code",
   "execution_count": 248,
   "metadata": {},
   "outputs": [],
   "source": [
    "clean.loc[clean.BMI==-9999,'BMI'] = np.nan\n",
    "clean.loc[clean.HANDEDNESS_SCORES==-9999, 'HANDEDNESS_SCORES'] = np.nan\n",
    "clean.loc[clean.HANDEDNESS_CATEGORY=='-9999', 'HANDEDNESS_CATEGORY'] = np.nan\n",
    "clean.loc[clean.FIQ==-9999, 'FIQ'] = np.nan\n",
    "clean.loc[clean.PIQ==-9999, 'PIQ'] = np.nan\n",
    "clean.loc[clean.VIQ==-9999, 'VIQ'] = np.nan"
   ]
  },
  {
   "cell_type": "code",
   "execution_count": 249,
   "metadata": {},
   "outputs": [
    {
     "data": {
      "text/plain": [
       "subject                False\n",
       "DX_GROUP               False\n",
       "SITE_ID                False\n",
       "AGE_AT_SCAN            False\n",
       "SEX                    False\n",
       "HANDEDNESS_CATEGORY    False\n",
       "HANDEDNESS_SCORES      False\n",
       "FIQ                    False\n",
       "VIQ                    False\n",
       "PIQ                    False\n",
       "BMI                    False\n",
       "fn_image_txt           False\n",
       "EYE_STATUS_AT_SCAN     False\n",
       "anat_cnr               False\n",
       "anat_efc               False\n",
       "anat_fber              False\n",
       "anat_fwhm              False\n",
       "anat_qi1               False\n",
       "anat_snr               False\n",
       "func_efc               False\n",
       "func_fber              False\n",
       "func_fwhm              False\n",
       "func_dvars             False\n",
       "func_outlier           False\n",
       "func_quality           False\n",
       "func_mean_fd           False\n",
       "func_num_fd            False\n",
       "func_perc_fd           False\n",
       "func_gsr               False\n",
       "dtype: bool"
      ]
     },
     "execution_count": 249,
     "metadata": {},
     "output_type": "execute_result"
    }
   ],
   "source": [
    "clean.apply(lambda x: np.any(x==-9999))"
   ]
  },
  {
   "cell_type": "code",
   "execution_count": 250,
   "metadata": {},
   "outputs": [
    {
     "data": {
      "text/plain": [
       "subject                  0\n",
       "DX_GROUP                 0\n",
       "SITE_ID                  0\n",
       "AGE_AT_SCAN              0\n",
       "SEX                      0\n",
       "HANDEDNESS_CATEGORY    205\n",
       "HANDEDNESS_SCORES      479\n",
       "FIQ                     58\n",
       "VIQ                    121\n",
       "PIQ                    111\n",
       "BMI                    633\n",
       "fn_image_txt             0\n",
       "EYE_STATUS_AT_SCAN       0\n",
       "anat_cnr                 0\n",
       "anat_efc                 0\n",
       "anat_fber                0\n",
       "anat_fwhm                0\n",
       "anat_qi1                 0\n",
       "anat_snr                 0\n",
       "func_efc                 0\n",
       "func_fber                0\n",
       "func_fwhm                0\n",
       "func_dvars               0\n",
       "func_outlier             0\n",
       "func_quality             0\n",
       "func_mean_fd             0\n",
       "func_num_fd              0\n",
       "func_perc_fd             0\n",
       "func_gsr                 0\n",
       "dtype: int64"
      ]
     },
     "execution_count": 250,
     "metadata": {},
     "output_type": "execute_result"
    }
   ],
   "source": [
    "clean.isna().sum()"
   ]
  },
  {
   "cell_type": "markdown",
   "metadata": {},
   "source": [
    "### Interpret handedness scores as handedness category"
   ]
  },
  {
   "cell_type": "code",
   "execution_count": 251,
   "metadata": {},
   "outputs": [
    {
     "data": {
      "image/png": "[encoded data removed]",
      "text/plain": [
       "<matplotlib.figure.Figure at 0x1a18305cf8>"
      ]
     },
     "metadata": {},
     "output_type": "display_data"
    }
   ],
   "source": [
    "clean.loc[clean.HANDEDNESS_CATEGORY.isin(['Ambi', 'Mixed', 'L->R']), 'HANDEDNESS_CATEGORY'] = 'Ambi'\n",
    "sns.boxplot(y='HANDEDNESS_SCORES', x='HANDEDNESS_CATEGORY', data=clean);"
   ]
  },
  {
   "cell_type": "code",
   "execution_count": 252,
   "metadata": {},
   "outputs": [
    {
     "data": {
      "image/png": "[encoded data removed]",
      "text/plain": [
       "<matplotlib.figure.Figure at 0x1a187bce10>"
      ]
     },
     "metadata": {},
     "output_type": "display_data"
    }
   ],
   "source": [
    "clean[clean.HANDEDNESS_CATEGORY.isna()].HANDEDNESS_SCORES.hist();"
   ]
  },
  {
   "cell_type": "code",
   "execution_count": 253,
   "metadata": {},
   "outputs": [],
   "source": [
    "clean.loc[clean.HANDEDNESS_SCORES > 50, 'HANDEDNESS_CATEGORY'] = 'R'\n",
    "clean.loc[clean.HANDEDNESS_SCORES < -50, 'HANDEDNESS_CATEGORY'] = 'L'\n",
    "clean.loc[(clean.HANDEDNESS_SCORES > -50) & (clean.HANDEDNESS_SCORES < 50), 'HANDEDNESS_CATEGORY'] = 'Ambi'"
   ]
  },
  {
   "cell_type": "markdown",
   "metadata": {},
   "source": [
    "#### Convert handedness categories to integer for learning"
   ]
  },
  {
   "cell_type": "code",
   "execution_count": 254,
   "metadata": {},
   "outputs": [],
   "source": [
    "clean.loc[clean.HANDEDNESS_CATEGORY == 'R', 'HANDEDNESS_CATEGORY'] = 2 \n",
    "clean.loc[clean.HANDEDNESS_CATEGORY == 'Ambi', 'HANDEDNESS_CATEGORY'] = 1\n",
    "clean.loc[clean.HANDEDNESS_CATEGORY == 'L', 'HANDEDNESS_CATEGORY'] = 0 "
   ]
  },
  {
   "cell_type": "code",
   "execution_count": 255,
   "metadata": {},
   "outputs": [
    {
     "data": {
      "text/plain": [
       "(199, 13)"
      ]
     },
     "execution_count": 255,
     "metadata": {},
     "output_type": "execute_result"
    }
   ],
   "source": [
    "data_pheno.HANDEDNESS_CATEGORY.isna().sum(), clean.HANDEDNESS_CATEGORY.isna().sum()"
   ]
  },
  {
   "cell_type": "code",
   "execution_count": 256,
   "metadata": {},
   "outputs": [
    {
     "data": {
      "text/plain": [
       "623    4\n",
       "349    4\n",
       "239    5\n",
       "107    5\n",
       "29     5\n",
       "dtype: int64"
      ]
     },
     "execution_count": 256,
     "metadata": {},
     "output_type": "execute_result"
    }
   ],
   "source": [
    "clean.isna().sum(axis=1).sort_values().tail()"
   ]
  },
  {
   "cell_type": "code",
   "execution_count": 257,
   "metadata": {},
   "outputs": [
    {
     "data": {
      "text/html": [
       "<div>\n",
       "<style scoped>\n",
       "    .dataframe tbody tr th:only-of-type {\n",
       "        vertical-align: middle;\n",
       "    }\n",
       "\n",
       "    .dataframe tbody tr th {\n",
       "        vertical-align: top;\n",
       "    }\n",
       "\n",
       "    .dataframe thead th {\n",
       "        text-align: right;\n",
       "    }\n",
       "</style>\n",
       "<table border=\"1\" class=\"dataframe\">\n",
       "  <thead>\n",
       "    <tr style=\"text-align: right;\">\n",
       "      <th></th>\n",
       "      <th>subject</th>\n",
       "      <th>DX_GROUP</th>\n",
       "      <th>SITE_ID</th>\n",
       "      <th>AGE_AT_SCAN</th>\n",
       "      <th>SEX</th>\n",
       "      <th>HANDEDNESS_CATEGORY</th>\n",
       "      <th>HANDEDNESS_SCORES</th>\n",
       "      <th>FIQ</th>\n",
       "      <th>VIQ</th>\n",
       "      <th>PIQ</th>\n",
       "      <th>BMI</th>\n",
       "      <th>fn_image_txt</th>\n",
       "    </tr>\n",
       "  </thead>\n",
       "  <tbody>\n",
       "    <tr>\n",
       "      <th>239</th>\n",
       "      <td>50132</td>\n",
       "      <td>1</td>\n",
       "      <td>OLIN</td>\n",
       "      <td>16.00</td>\n",
       "      <td>1</td>\n",
       "      <td>2</td>\n",
       "      <td>NaN</td>\n",
       "      <td>NaN</td>\n",
       "      <td>NaN</td>\n",
       "      <td>NaN</td>\n",
       "      <td>NaN</td>\n",
       "      <td>Olin_0050132.txt</td>\n",
       "    </tr>\n",
       "    <tr>\n",
       "      <th>107</th>\n",
       "      <td>50125</td>\n",
       "      <td>1</td>\n",
       "      <td>OLIN</td>\n",
       "      <td>24.00</td>\n",
       "      <td>2</td>\n",
       "      <td>2</td>\n",
       "      <td>NaN</td>\n",
       "      <td>NaN</td>\n",
       "      <td>NaN</td>\n",
       "      <td>NaN</td>\n",
       "      <td>NaN</td>\n",
       "      <td>Olin_0050125.txt</td>\n",
       "    </tr>\n",
       "    <tr>\n",
       "      <th>29</th>\n",
       "      <td>50156</td>\n",
       "      <td>1</td>\n",
       "      <td>OHSU</td>\n",
       "      <td>15.23</td>\n",
       "      <td>1</td>\n",
       "      <td>2</td>\n",
       "      <td>NaN</td>\n",
       "      <td>NaN</td>\n",
       "      <td>NaN</td>\n",
       "      <td>NaN</td>\n",
       "      <td>NaN</td>\n",
       "      <td>OHSU_0050156.txt</td>\n",
       "    </tr>\n",
       "  </tbody>\n",
       "</table>\n",
       "</div>"
      ],
      "text/plain": [
       "     subject  DX_GROUP SITE_ID  AGE_AT_SCAN  SEX HANDEDNESS_CATEGORY  \\\n",
       "239    50132         1    OLIN        16.00    1                   2   \n",
       "107    50125         1    OLIN        24.00    2                   2   \n",
       "29     50156         1    OHSU        15.23    1                   2   \n",
       "\n",
       "     HANDEDNESS_SCORES  FIQ  VIQ  PIQ  BMI      fn_image_txt  \n",
       "239                NaN  NaN  NaN  NaN  NaN  Olin_0050132.txt  \n",
       "107                NaN  NaN  NaN  NaN  NaN  Olin_0050125.txt  \n",
       "29                 NaN  NaN  NaN  NaN  NaN  OHSU_0050156.txt  "
      ]
     },
     "execution_count": 257,
     "metadata": {},
     "output_type": "execute_result"
    }
   ],
   "source": [
    "clean.iloc[[239,107,29],list(range(12))]"
   ]
  },
  {
   "cell_type": "code",
   "execution_count": 258,
   "metadata": {},
   "outputs": [
    {
     "data": {
      "text/plain": [
       "subject                 0\n",
       "DX_GROUP                0\n",
       "SITE_ID                 0\n",
       "AGE_AT_SCAN             0\n",
       "SEX                     0\n",
       "HANDEDNESS_CATEGORY    13\n",
       "FIQ                    58\n",
       "fn_image_txt            0\n",
       "EYE_STATUS_AT_SCAN      0\n",
       "anat_cnr                0\n",
       "anat_efc                0\n",
       "anat_fber               0\n",
       "anat_fwhm               0\n",
       "anat_qi1                0\n",
       "anat_snr                0\n",
       "func_efc                0\n",
       "func_fber               0\n",
       "func_fwhm               0\n",
       "func_dvars              0\n",
       "func_outlier            0\n",
       "func_quality            0\n",
       "func_mean_fd            0\n",
       "func_num_fd             0\n",
       "func_perc_fd            0\n",
       "func_gsr                0\n",
       "dtype: int64"
      ]
     },
     "execution_count": 258,
     "metadata": {},
     "output_type": "execute_result"
    }
   ],
   "source": [
    "clean[['subject', 'DX_GROUP', 'SITE_ID', 'AGE_AT_SCAN', 'SEX',\n",
    "       'HANDEDNESS_CATEGORY', 'FIQ', \n",
    "       'fn_image_txt', 'EYE_STATUS_AT_SCAN', 'anat_cnr', 'anat_efc',\n",
    "       'anat_fber', 'anat_fwhm', 'anat_qi1', 'anat_snr', 'func_efc',\n",
    "       'func_fber', 'func_fwhm', 'func_dvars', 'func_outlier', 'func_quality',\n",
    "       'func_mean_fd', 'func_num_fd', 'func_perc_fd', 'func_gsr']].isna().sum()"
   ]
  },
  {
   "cell_type": "code",
   "execution_count": 259,
   "metadata": {},
   "outputs": [
    {
     "data": {
      "text/html": [
       "<div>\n",
       "<style scoped>\n",
       "    .dataframe tbody tr th:only-of-type {\n",
       "        vertical-align: middle;\n",
       "    }\n",
       "\n",
       "    .dataframe tbody tr th {\n",
       "        vertical-align: top;\n",
       "    }\n",
       "\n",
       "    .dataframe thead th {\n",
       "        text-align: right;\n",
       "    }\n",
       "</style>\n",
       "<table border=\"1\" class=\"dataframe\">\n",
       "  <thead>\n",
       "    <tr style=\"text-align: right;\">\n",
       "      <th></th>\n",
       "      <th>subject</th>\n",
       "      <th>DX_GROUP</th>\n",
       "      <th>SITE_ID</th>\n",
       "      <th>AGE_AT_SCAN</th>\n",
       "      <th>SEX</th>\n",
       "      <th>HANDEDNESS_CATEGORY</th>\n",
       "      <th>HANDEDNESS_SCORES</th>\n",
       "      <th>FIQ</th>\n",
       "      <th>VIQ</th>\n",
       "      <th>PIQ</th>\n",
       "      <th>...</th>\n",
       "      <th>func_efc</th>\n",
       "      <th>func_fber</th>\n",
       "      <th>func_fwhm</th>\n",
       "      <th>func_dvars</th>\n",
       "      <th>func_outlier</th>\n",
       "      <th>func_quality</th>\n",
       "      <th>func_mean_fd</th>\n",
       "      <th>func_num_fd</th>\n",
       "      <th>func_perc_fd</th>\n",
       "      <th>func_gsr</th>\n",
       "    </tr>\n",
       "  </thead>\n",
       "  <tbody>\n",
       "  </tbody>\n",
       "</table>\n",
       "<p>0 rows × 29 columns</p>\n",
       "</div>"
      ],
      "text/plain": [
       "Empty DataFrame\n",
       "Columns: [subject, DX_GROUP, SITE_ID, AGE_AT_SCAN, SEX, HANDEDNESS_CATEGORY, HANDEDNESS_SCORES, FIQ, VIQ, PIQ, BMI, fn_image_txt, EYE_STATUS_AT_SCAN, anat_cnr, anat_efc, anat_fber, anat_fwhm, anat_qi1, anat_snr, func_efc, func_fber, func_fwhm, func_dvars, func_outlier, func_quality, func_mean_fd, func_num_fd, func_perc_fd, func_gsr]\n",
       "Index: []\n",
       "\n",
       "[0 rows x 29 columns]"
      ]
     },
     "execution_count": 259,
     "metadata": {},
     "output_type": "execute_result"
    }
   ],
   "source": [
    "clean[clean.HANDEDNESS_CATEGORY.isna() & clean.FIQ.isna()]"
   ]
  },
  {
   "cell_type": "markdown",
   "metadata": {},
   "source": [
    "=> The missing values in FIQ and HANDEDNESS CATEGORY don't overlap."
   ]
  },
  {
   "cell_type": "code",
   "execution_count": 260,
   "metadata": {},
   "outputs": [
    {
     "data": {
      "text/plain": [
       "<matplotlib.axes._subplots.AxesSubplot at 0x1a1bd98080>"
      ]
     },
     "execution_count": 260,
     "metadata": {},
     "output_type": "execute_result"
    },
    {
     "data": {
      "image/png": "[encoded data removed]",
      "text/plain": [
       "<matplotlib.figure.Figure at 0x1a1af961d0>"
      ]
     },
     "metadata": {},
     "output_type": "display_data"
    }
   ],
   "source": [
    "sns.countplot(data=clean[clean.HANDEDNESS_CATEGORY.isna()], x='DX_GROUP')"
   ]
  },
  {
   "cell_type": "code",
   "execution_count": 261,
   "metadata": {},
   "outputs": [
    {
     "data": {
      "image/png": "[encoded data removed]",
      "text/plain": [
       "<matplotlib.figure.Figure at 0x1a1be98198>"
      ]
     },
     "metadata": {},
     "output_type": "display_data"
    }
   ],
   "source": [
    "sns.pairplot(data=clean.dropna(subset=['FIQ','VIQ', 'PIQ']),  vars=['FIQ','VIQ', 'PIQ']) ;"
   ]
  },
  {
   "cell_type": "markdown",
   "metadata": {},
   "source": [
    "=> Won't try to impute IQ values."
   ]
  },
  {
   "cell_type": "code",
   "execution_count": 262,
   "metadata": {},
   "outputs": [],
   "source": [
    "exist = clean.dropna(subset=['FIQ', 'HANDEDNESS_CATEGORY'])"
   ]
  },
  {
   "cell_type": "markdown",
   "metadata": {},
   "source": [
    "## More data exploration"
   ]
  },
  {
   "cell_type": "code",
   "execution_count": 263,
   "metadata": {
    "scrolled": false
   },
   "outputs": [
    {
     "data": {
      "image/png": "[encoded data removed]",
      "text/plain": [
       "<matplotlib.figure.Figure at 0x1a190168d0>"
      ]
     },
     "metadata": {},
     "output_type": "display_data"
    }
   ],
   "source": [
    "sns.pairplot(data=clean.dropna(subset=['DX_GROUP', 'AGE_AT_SCAN', 'HANDEDNESS_SCORES', 'FIQ']), \n",
    "             vars=['DX_GROUP', 'AGE_AT_SCAN', 'HANDEDNESS_SCORES', 'FIQ', 'anat_efc']);"
   ]
  },
  {
   "cell_type": "code",
   "execution_count": 264,
   "metadata": {},
   "outputs": [
    {
     "data": {
      "image/png": "[encoded data removed]",
      "text/plain": [
       "<matplotlib.figure.Figure at 0x1a1ca94470>"
      ]
     },
     "metadata": {},
     "output_type": "display_data"
    }
   ],
   "source": [
    "sns.countplot(x='DX_GROUP', data=clean, hue='EYE_STATUS_AT_SCAN');"
   ]
  },
  {
   "cell_type": "code",
   "execution_count": 265,
   "metadata": {},
   "outputs": [
    {
     "data": {
      "image/png": "[encoded data removed]",
      "text/plain": [
       "<matplotlib.figure.Figure at 0x1a1bf8f208>"
      ]
     },
     "metadata": {},
     "output_type": "display_data"
    }
   ],
   "source": [
    "sns.boxplot(y='HANDEDNESS_SCORES', x='DX_GROUP', data=clean);"
   ]
  },
  {
   "cell_type": "code",
   "execution_count": 266,
   "metadata": {},
   "outputs": [
    {
     "data": {
      "image/png": "[encoded data removed]",
      "text/plain": [
       "<matplotlib.figure.Figure at 0x1a1be8ad68>"
      ]
     },
     "metadata": {},
     "output_type": "display_data"
    }
   ],
   "source": [
    "sns.countplot(hue='HANDEDNESS_CATEGORY', y='DX_GROUP', data=clean);"
   ]
  },
  {
   "cell_type": "code",
   "execution_count": 267,
   "metadata": {},
   "outputs": [
    {
     "data": {
      "image/png": "[encoded data removed]",
      "text/plain": [
       "<matplotlib.figure.Figure at 0x1a0c158ef0>"
      ]
     },
     "metadata": {},
     "output_type": "display_data"
    }
   ],
   "source": [
    "sns.boxplot(y='FIQ', x='DX_GROUP', hue='SEX', data=clean);"
   ]
  },
  {
   "cell_type": "code",
   "execution_count": 268,
   "metadata": {},
   "outputs": [
    {
     "data": {
      "image/png": "[encoded data removed]",
      "text/plain": [
       "<matplotlib.figure.Figure at 0x1a18945e10>"
      ]
     },
     "metadata": {},
     "output_type": "display_data"
    }
   ],
   "source": [
    "sns.boxplot(y='VIQ', x='DX_GROUP', hue='SEX', data=clean);"
   ]
  },
  {
   "cell_type": "markdown",
   "metadata": {},
   "source": [
    "### Is one sex or one disease status overrepresented?"
   ]
  },
  {
   "cell_type": "code",
   "execution_count": 269,
   "metadata": {},
   "outputs": [
    {
     "data": {
      "text/plain": [
       "(592, 108)"
      ]
     },
     "execution_count": 269,
     "metadata": {},
     "output_type": "execute_result"
    }
   ],
   "source": [
    "np.sum(clean.SEX == 1), np.sum(clean.SEX == 2)"
   ]
  },
  {
   "cell_type": "code",
   "execution_count": 270,
   "metadata": {},
   "outputs": [
    {
     "data": {
      "text/plain": [
       "(323, 377)"
      ]
     },
     "execution_count": 270,
     "metadata": {},
     "output_type": "execute_result"
    }
   ],
   "source": [
    "np.sum(clean.DX_GROUP == 1), np.sum(clean.DX_GROUP == 2)"
   ]
  },
  {
   "cell_type": "code",
   "execution_count": 271,
   "metadata": {},
   "outputs": [
    {
     "data": {
      "text/plain": [
       "(282, 41)"
      ]
     },
     "execution_count": 271,
     "metadata": {},
     "output_type": "execute_result"
    }
   ],
   "source": [
    "np.sum((clean.DX_GROUP == 1) & (clean.SEX == 1)), np.sum((clean.DX_GROUP == 1) & (clean.SEX == 2))"
   ]
  },
  {
   "cell_type": "markdown",
   "metadata": {},
   "source": [
    "=> Yes, there are about 5 times as many males as females in the total sample, and there are about 6.5 times as many males as females in the diseased group. The proportion of diseased to healthy subjects is approximately equal."
   ]
  },
  {
   "cell_type": "markdown",
   "metadata": {},
   "source": [
    "## Training SVM"
   ]
  },
  {
   "cell_type": "markdown",
   "metadata": {},
   "source": [
    "### without Handedness category"
   ]
  },
  {
   "cell_type": "code",
   "execution_count": 272,
   "metadata": {},
   "outputs": [],
   "source": [
    "learnDF = exist[['DX_GROUP','AGE_AT_SCAN', 'FIQ',\n",
    "        'EYE_STATUS_AT_SCAN', 'anat_cnr', 'anat_efc',\n",
    "       'anat_fber', 'anat_fwhm', 'anat_qi1', 'anat_snr', 'func_efc',\n",
    "       'func_fber', 'func_fwhm', 'func_dvars', 'func_outlier', 'func_quality',\n",
    "       'func_mean_fd', 'func_num_fd', 'func_perc_fd', 'func_gsr']]\n",
    "\n",
    "label = learnDF['DX_GROUP']\n",
    "labels = np.ravel(np.c_[label])\n",
    "features = learnDF.drop('DX_GROUP', axis = 1)\n",
    "\n",
    "features_scaled = preprocessing.scale(features)\n",
    "\n",
    "features_train, features_test, labels_train, labels_test = train_test_split(features_scaled, labels, test_size=.3, random_state=42)"
   ]
  },
  {
   "cell_type": "code",
   "execution_count": 273,
   "metadata": {
    "scrolled": true
   },
   "outputs": [
    {
     "name": "stdout",
     "output_type": "stream",
     "text": [
      "Classifier has an accuracy of 73.64% on the training data.\n",
      "Classifier has an accuracy of 58.73% on the test data.\n"
     ]
    }
   ],
   "source": [
    "clfsvm = SVC(probability=True)\n",
    "clfsvm.fit(features_train, labels_train)\n",
    "predSvcTrain = clfsvm.predict(features_train)\n",
    "print(\"Classifier has an accuracy of {:.2f}% on the training data.\".format((labels_train == predSvcTrain).mean()*100))\n",
    "\n",
    "predSvcTest = clfsvm.predict(features_test)\n",
    "print(\"Classifier has an accuracy of {:.2f}% on the test data.\".format((labels_test == predSvcTest).mean()*100))"
   ]
  },
  {
   "cell_type": "markdown",
   "metadata": {},
   "source": [
    "=> This doe not include the handedness category, since that has to be encoded as integers first:"
   ]
  },
  {
   "cell_type": "markdown",
   "metadata": {},
   "source": [
    "### with Handedness category"
   ]
  },
  {
   "cell_type": "code",
   "execution_count": 274,
   "metadata": {},
   "outputs": [],
   "source": [
    "learnDFv2 = exist[['DX_GROUP','AGE_AT_SCAN', 'FIQ', 'HANDEDNESS_CATEGORY',\n",
    "        'EYE_STATUS_AT_SCAN', 'anat_cnr', 'anat_efc',\n",
    "       'anat_fber', 'anat_fwhm', 'anat_qi1', 'anat_snr', 'func_efc',\n",
    "       'func_fber', 'func_fwhm', 'func_dvars', 'func_outlier', 'func_quality',\n",
    "       'func_mean_fd', 'func_num_fd', 'func_perc_fd', 'func_gsr']]\n",
    "\n",
    "label = learnDFv2['DX_GROUP']\n",
    "labels = np.ravel(np.c_[label])\n",
    "features = learnDFv2.drop('DX_GROUP', axis = 1)\n",
    "\n",
    "features_scaled = preprocessing.scale(features)\n",
    "\n",
    "features_train, features_test, labels_train, labels_test = train_test_split(features_scaled, labels, test_size=.3, random_state=42)"
   ]
  },
  {
   "cell_type": "code",
   "execution_count": 275,
   "metadata": {},
   "outputs": [
    {
     "name": "stdout",
     "output_type": "stream",
     "text": [
      "Classifier has an accuracy of 74.32% on the training data.\n",
      "Classifier has an accuracy of 59.79% on the test data.\n"
     ]
    }
   ],
   "source": [
    "clfsvm = SVC(probability=True)\n",
    "clfsvm.fit(features_train, labels_train)\n",
    "predSvcTrain = clfsvm.predict(features_train)\n",
    "print(\"Classifier has an accuracy of {:.2f}% on the training data.\".format((labels_train == predSvcTrain).mean()*100))\n",
    "\n",
    "predSvcTest = clfsvm.predict(features_test)\n",
    "print(\"Classifier has an accuracy of {:.2f}% on the test data.\".format((labels_test == predSvcTest).mean()*100))"
   ]
  },
  {
   "cell_type": "code",
   "execution_count": 276,
   "metadata": {},
   "outputs": [
    {
     "data": {
      "text/plain": [
       "array([2, 1, 1, 2, 2, 2, 1, 2, 1, 1, 2, 1, 1, 1, 1, 2, 2, 2, 1, 2, 2, 2, 1,\n",
       "       1, 2, 2, 2, 2, 1, 1, 1, 2, 2, 1, 2, 2, 2, 2, 2, 1, 2, 1, 2, 2, 2, 2,\n",
       "       2, 2, 2, 2, 2, 1, 1, 2, 2, 2, 2, 2, 2, 2, 2, 2, 2, 2, 2, 2, 2, 2, 1,\n",
       "       2, 2, 2, 2, 2, 1, 2, 2, 2, 1, 2, 1, 1, 2, 2, 2, 2, 2, 1, 2, 1, 2, 2,\n",
       "       1, 2, 2, 1, 2, 2, 2, 2, 2, 1, 1, 2, 2, 2, 2, 2, 1, 1, 2, 1, 2, 2, 1,\n",
       "       2, 1, 1, 2, 1, 2, 2, 2, 2, 2, 2, 2, 2, 2, 2, 2, 2, 2, 2, 2, 2, 2, 2,\n",
       "       2, 2, 1, 2, 2, 1, 1, 1, 2, 2, 2, 2, 2, 2, 1, 2, 2, 1, 2, 2, 1, 2, 1,\n",
       "       1, 2, 2, 2, 1, 2, 2, 2, 2, 1, 2, 2, 2, 2, 2, 2, 2, 2, 2, 2, 2, 2, 2,\n",
       "       2, 2, 1, 1, 1, 2, 2, 1, 2, 2, 2, 1, 2, 2, 1, 2, 2, 1, 2, 1, 2, 1, 2,\n",
       "       1, 2, 1, 2, 2, 1, 2, 2, 2, 2, 1, 2, 2, 1, 1, 1, 1, 2, 2, 1, 2, 2, 2,\n",
       "       1, 1, 2, 2, 2, 2, 2, 1, 2, 1, 2, 2, 2, 1, 2, 2, 1, 2, 2, 1, 2, 1, 2,\n",
       "       2, 2, 2, 2, 2, 1, 2, 2, 2, 2, 2, 2, 2, 2, 2, 1, 2, 2, 2, 2, 2, 2, 2,\n",
       "       2, 2, 2, 2, 2, 2, 2, 1, 1, 2, 2, 2, 2, 2, 2, 1, 1, 2, 2, 1, 2, 1, 2,\n",
       "       1, 2, 1, 1, 2, 2, 2, 2, 1, 2, 1, 1, 2, 2, 1, 2, 2, 2, 2, 1, 2, 1, 1,\n",
       "       2, 2, 2, 1, 2, 2, 2, 2, 1, 1, 2, 2, 1, 2, 2, 1, 2, 2, 2, 1, 2, 1, 2,\n",
       "       2, 2, 2, 2, 2, 1, 2, 2, 2, 2, 2, 2, 2, 2, 2, 1, 1, 2, 2, 2, 2, 2, 1,\n",
       "       2, 2, 2, 2, 2, 1, 2, 2, 2, 2, 2, 1, 2, 2, 2, 2, 1, 2, 2, 2, 2, 2, 2,\n",
       "       2, 2, 1, 2, 2, 2, 2, 2, 1, 2, 2, 2, 1, 1, 1, 2, 1, 2, 2, 2, 2, 1, 1,\n",
       "       2, 2, 2, 2, 2, 2, 2, 2, 2, 2, 2, 2, 2, 2, 2, 1, 1, 2, 1, 2, 2, 2, 1,\n",
       "       1, 1, 2])"
      ]
     },
     "execution_count": 276,
     "metadata": {},
     "output_type": "execute_result"
    }
   ],
   "source": [
    "predSvcTrain"
   ]
  },
  {
   "cell_type": "markdown",
   "metadata": {},
   "source": [
    "#### with probabilities"
   ]
  },
  {
   "cell_type": "code",
   "execution_count": 277,
   "metadata": {},
   "outputs": [],
   "source": [
    "predSvcTrain = clfsvm.predict_proba(features_scaled)"
   ]
  },
  {
   "cell_type": "code",
   "execution_count": 278,
   "metadata": {},
   "outputs": [
    {
     "data": {
      "text/plain": [
       "array([[ 0.45329607,  0.54670393],\n",
       "       [ 0.52822743,  0.47177257],\n",
       "       [ 0.39965245,  0.60034755],\n",
       "       ..., \n",
       "       [ 0.36006267,  0.63993733],\n",
       "       [ 0.65545315,  0.34454685],\n",
       "       [ 0.34695993,  0.65304007]])"
      ]
     },
     "execution_count": 278,
     "metadata": {},
     "output_type": "execute_result"
    }
   ],
   "source": [
    "predSvcTrain"
   ]
  },
  {
   "cell_type": "code",
   "execution_count": 279,
   "metadata": {},
   "outputs": [
    {
     "data": {
      "text/plain": [
       "array([1, 2])"
      ]
     },
     "execution_count": 279,
     "metadata": {},
     "output_type": "execute_result"
    }
   ],
   "source": [
    "clfsvm.classes_"
   ]
  },
  {
   "cell_type": "markdown",
   "metadata": {},
   "source": [
    "=> The probabilities correspond to the label order in clfsvm.classes_."
   ]
  },
  {
   "cell_type": "code",
   "execution_count": 280,
   "metadata": {},
   "outputs": [
    {
     "name": "stdout",
     "output_type": "stream",
     "text": [
      "Classifier has an accuracy of 73.41% on the training data.\n",
      "Classifier has an accuracy of 58.73% on the test data.\n"
     ]
    }
   ],
   "source": [
    "predSvcTrain = clfsvm.predict_proba(features_train)\n",
    "probAsdTrain, probHealthyTrain = list(zip(*predSvcTrain))\n",
    "probAsdTrain = np.array(probAsdTrain)\n",
    "probHealthyTrain = np.array(probHealthyTrain)\n",
    "\n",
    "train_right = (((labels_train == 1) & (prob_ASD > 0.5 )).mean()+ \n",
    "               ((labels_train == 2) & (prob_ASD < 0.5 )).mean())*100\n",
    "print(\"Classifier has an accuracy of {:.2f}% on the training data.\".format(train_right))\n",
    "\n",
    "predSvcTest = clfsvm.predict_proba(features_test)\n",
    "probAsdTest, probHealthyTest = list(zip(*predSvcTest))\n",
    "probAsdTest = np.array(probAsdTest)\n",
    "probHealthyTest = np.array(probHealthyTest)\n",
    "\n",
    "test_right = (((labels_test == 1) & (probAsdTest > 0.5 )).mean()+\n",
    "             ((labels_test == 2) & (probAsdTest < 0.5 )).mean())*100\n",
    "print(\"Classifier has an accuracy of {:.2f}% on the test data.\".format(test_right))"
   ]
  },
  {
   "cell_type": "markdown",
   "metadata": {},
   "source": [
    "### dropping most quality measures and the age"
   ]
  },
  {
   "cell_type": "code",
   "execution_count": 281,
   "metadata": {},
   "outputs": [],
   "source": [
    "learnDFv3 = exist[['DX_GROUP', 'FIQ', 'HANDEDNESS_CATEGORY',\n",
    "        'EYE_STATUS_AT_SCAN', 'anat_efc', 'func_efc']]\n",
    "\n",
    "label = learnDFv3['DX_GROUP']\n",
    "labels = np.ravel(np.c_[label])\n",
    "features = learnDFv3.drop('DX_GROUP', axis = 1)\n",
    "\n",
    "features_scaled = preprocessing.scale(features)\n",
    "\n",
    "features_train, features_test, labels_train, labels_test = train_test_split(features_scaled, labels, test_size=.3, random_state=42)"
   ]
  },
  {
   "cell_type": "code",
   "execution_count": 282,
   "metadata": {},
   "outputs": [
    {
     "name": "stdout",
     "output_type": "stream",
     "text": [
      "Classifier has an accuracy of 73.41% on the training data.\n",
      "Classifier has an accuracy of 56.08% on the test data.\n"
     ]
    }
   ],
   "source": [
    "clfsvm = SVC(probability=True)\n",
    "clfsvm.fit(features_train, labels_train)\n",
    "\n",
    "predSvcTrain = clfsvm.predict_proba(features_train)\n",
    "probAsdTrain, probHealthyTrain = list(zip(*predSvcTrain))\n",
    "probAsdTrain = np.array(probAsdTrain)\n",
    "probHealthyTrain = np.array(probHealthyTrain)\n",
    "\n",
    "train_right = (((labels_train == 1) & (prob_ASD > 0.5 )).mean()+ \n",
    "               ((labels_train == 2) & (prob_ASD < 0.5 )).mean())*100\n",
    "print(\"Classifier has an accuracy of {:.2f}% on the training data.\".format(train_right))\n",
    "\n",
    "predSvcTest = clfsvm.predict_proba(features_test)\n",
    "probAsdTest, probHealthyTest = list(zip(*predSvcTest))\n",
    "probAsdTest = np.array(probAsdTest)\n",
    "probHealthyTest = np.array(probHealthyTest)\n",
    "\n",
    "test_right = (((labels_test == 1) & (probAsdTest > 0.5 )).mean()+\n",
    "             ((labels_test == 2) & (probAsdTest < 0.5 )).mean())*100\n",
    "print(\"Classifier has an accuracy of {:.2f}% on the test data.\".format(test_right))"
   ]
  },
  {
   "cell_type": "markdown",
   "metadata": {},
   "source": [
    "### training on full intelligence only"
   ]
  },
  {
   "cell_type": "code",
   "execution_count": 283,
   "metadata": {},
   "outputs": [],
   "source": [
    "learnDFv4 = exist[['DX_GROUP', 'FIQ']]\n",
    "\n",
    "label = learnDFv4['DX_GROUP']\n",
    "labels = np.ravel(np.c_[label])\n",
    "features = learnDFv4.drop('DX_GROUP', axis = 1)\n",
    "\n",
    "features_scaled = preprocessing.scale(features)\n",
    "\n",
    "features_train, features_test, labels_train, labels_test = train_test_split(features_scaled, labels, test_size=.3, random_state=42)"
   ]
  },
  {
   "cell_type": "code",
   "execution_count": 284,
   "metadata": {},
   "outputs": [
    {
     "name": "stdout",
     "output_type": "stream",
     "text": [
      "Classifier has an accuracy of 73.41% on the training data.\n",
      "Classifier has an accuracy of 58.73% on the test data.\n"
     ]
    }
   ],
   "source": [
    "clfsvm = SVC(probability=True)\n",
    "clfsvm.fit(features_train, labels_train)\n",
    "\n",
    "predSvcTrain = clfsvm.predict_proba(features_train)\n",
    "probAsdTrain, probHealthyTrain = list(zip(*predSvcTrain))\n",
    "probAsdTrain = np.array(probAsdTrain)\n",
    "probHealthyTrain = np.array(probHealthyTrain)\n",
    "\n",
    "train_right = (((labels_train == 1) & (prob_ASD > 0.5 )).mean()+ \n",
    "               ((labels_train == 2) & (prob_ASD < 0.5 )).mean())*100\n",
    "print(\"Classifier has an accuracy of {:.2f}% on the training data.\".format(train_right))\n",
    "\n",
    "predSvcTest = clfsvm.predict_proba(features_test)\n",
    "probAsdTest, probHealthyTest = list(zip(*predSvcTest))\n",
    "probAsdTest = np.array(probAsdTest)\n",
    "probHealthyTest = np.array(probHealthyTest)\n",
    "\n",
    "test_right = (((labels_test == 1) & (probAsdTest > 0.5 )).mean()+\n",
    "             ((labels_test == 2) & (probAsdTest < 0.5 )).mean())*100\n",
    "print(\"Classifier has an accuracy of {:.2f}% on the test data.\".format(test_right))"
   ]
  },
  {
   "cell_type": "markdown",
   "metadata": {},
   "source": [
    "## Importing test data"
   ]
  },
  {
   "cell_type": "code",
   "execution_count": 285,
   "metadata": {},
   "outputs": [
    {
     "name": "stdout",
     "output_type": "stream",
     "text": [
      "(184, 28)\n"
     ]
    },
    {
     "data": {
      "text/html": [
       "<div>\n",
       "<style scoped>\n",
       "    .dataframe tbody tr th:only-of-type {\n",
       "        vertical-align: middle;\n",
       "    }\n",
       "\n",
       "    .dataframe tbody tr th {\n",
       "        vertical-align: top;\n",
       "    }\n",
       "\n",
       "    .dataframe thead th {\n",
       "        text-align: right;\n",
       "    }\n",
       "</style>\n",
       "<table border=\"1\" class=\"dataframe\">\n",
       "  <thead>\n",
       "    <tr style=\"text-align: right;\">\n",
       "      <th></th>\n",
       "      <th>subject</th>\n",
       "      <th>SITE_ID</th>\n",
       "      <th>AGE_AT_SCAN</th>\n",
       "      <th>SEX</th>\n",
       "      <th>HANDEDNESS_CATEGORY</th>\n",
       "      <th>HANDEDNESS_SCORES</th>\n",
       "      <th>FIQ</th>\n",
       "      <th>VIQ</th>\n",
       "      <th>PIQ</th>\n",
       "      <th>BMI</th>\n",
       "      <th>...</th>\n",
       "      <th>func_efc</th>\n",
       "      <th>func_fber</th>\n",
       "      <th>func_fwhm</th>\n",
       "      <th>func_dvars</th>\n",
       "      <th>func_outlier</th>\n",
       "      <th>func_quality</th>\n",
       "      <th>func_mean_fd</th>\n",
       "      <th>func_num_fd</th>\n",
       "      <th>func_perc_fd</th>\n",
       "      <th>func_gsr</th>\n",
       "    </tr>\n",
       "  </thead>\n",
       "  <tbody>\n",
       "    <tr>\n",
       "      <th>171</th>\n",
       "      <td>50246</td>\n",
       "      <td>TRINITY</td>\n",
       "      <td>19.5000</td>\n",
       "      <td>1</td>\n",
       "      <td>R</td>\n",
       "      <td>NaN</td>\n",
       "      <td>105.0</td>\n",
       "      <td>108.0</td>\n",
       "      <td>99.0</td>\n",
       "      <td>NaN</td>\n",
       "      <td>...</td>\n",
       "      <td>0.433332</td>\n",
       "      <td>162.594506</td>\n",
       "      <td>2.202584</td>\n",
       "      <td>1.150549</td>\n",
       "      <td>0.006192</td>\n",
       "      <td>0.009893</td>\n",
       "      <td>0.110698</td>\n",
       "      <td>15.0</td>\n",
       "      <td>9.933775</td>\n",
       "      <td>0.019778</td>\n",
       "    </tr>\n",
       "    <tr>\n",
       "      <th>697</th>\n",
       "      <td>51009</td>\n",
       "      <td>NYU</td>\n",
       "      <td>11.0300</td>\n",
       "      <td>1</td>\n",
       "      <td>NaN</td>\n",
       "      <td>-9.0</td>\n",
       "      <td>86.0</td>\n",
       "      <td>88.0</td>\n",
       "      <td>86.0</td>\n",
       "      <td>21.63</td>\n",
       "      <td>...</td>\n",
       "      <td>0.528379</td>\n",
       "      <td>115.786542</td>\n",
       "      <td>1.909761</td>\n",
       "      <td>1.069484</td>\n",
       "      <td>0.008498</td>\n",
       "      <td>0.016295</td>\n",
       "      <td>0.099712</td>\n",
       "      <td>10.0</td>\n",
       "      <td>5.524862</td>\n",
       "      <td>-0.007843</td>\n",
       "    </tr>\n",
       "    <tr>\n",
       "      <th>869</th>\n",
       "      <td>51191</td>\n",
       "      <td>STANFORD</td>\n",
       "      <td>9.7201</td>\n",
       "      <td>1</td>\n",
       "      <td>R</td>\n",
       "      <td>NaN</td>\n",
       "      <td>79.0</td>\n",
       "      <td>67.0</td>\n",
       "      <td>99.0</td>\n",
       "      <td>NaN</td>\n",
       "      <td>...</td>\n",
       "      <td>0.528708</td>\n",
       "      <td>67.422244</td>\n",
       "      <td>2.170657</td>\n",
       "      <td>1.302950</td>\n",
       "      <td>0.012164</td>\n",
       "      <td>0.009947</td>\n",
       "      <td>0.110340</td>\n",
       "      <td>37.0</td>\n",
       "      <td>15.352697</td>\n",
       "      <td>0.052731</td>\n",
       "    </tr>\n",
       "    <tr>\n",
       "      <th>814</th>\n",
       "      <td>51131</td>\n",
       "      <td>NYU</td>\n",
       "      <td>19.7300</td>\n",
       "      <td>1</td>\n",
       "      <td>NaN</td>\n",
       "      <td>68.0</td>\n",
       "      <td>119.0</td>\n",
       "      <td>112.0</td>\n",
       "      <td>123.0</td>\n",
       "      <td>-9999.00</td>\n",
       "      <td>...</td>\n",
       "      <td>0.534295</td>\n",
       "      <td>78.296410</td>\n",
       "      <td>1.765660</td>\n",
       "      <td>1.018414</td>\n",
       "      <td>0.006217</td>\n",
       "      <td>0.014129</td>\n",
       "      <td>0.032827</td>\n",
       "      <td>2.0</td>\n",
       "      <td>1.104972</td>\n",
       "      <td>-0.001329</td>\n",
       "    </tr>\n",
       "    <tr>\n",
       "      <th>790</th>\n",
       "      <td>51107</td>\n",
       "      <td>NYU</td>\n",
       "      <td>15.5300</td>\n",
       "      <td>1</td>\n",
       "      <td>NaN</td>\n",
       "      <td>73.0</td>\n",
       "      <td>107.0</td>\n",
       "      <td>112.0</td>\n",
       "      <td>99.0</td>\n",
       "      <td>21.17</td>\n",
       "      <td>...</td>\n",
       "      <td>0.535280</td>\n",
       "      <td>105.185145</td>\n",
       "      <td>1.728942</td>\n",
       "      <td>1.049717</td>\n",
       "      <td>0.006184</td>\n",
       "      <td>0.014243</td>\n",
       "      <td>0.034872</td>\n",
       "      <td>1.0</td>\n",
       "      <td>0.552486</td>\n",
       "      <td>0.000530</td>\n",
       "    </tr>\n",
       "  </tbody>\n",
       "</table>\n",
       "<p>5 rows × 28 columns</p>\n",
       "</div>"
      ],
      "text/plain": [
       "     subject   SITE_ID  AGE_AT_SCAN  SEX HANDEDNESS_CATEGORY  \\\n",
       "171    50246   TRINITY      19.5000    1                   R   \n",
       "697    51009       NYU      11.0300    1                 NaN   \n",
       "869    51191  STANFORD       9.7201    1                   R   \n",
       "814    51131       NYU      19.7300    1                 NaN   \n",
       "790    51107       NYU      15.5300    1                 NaN   \n",
       "\n",
       "     HANDEDNESS_SCORES    FIQ    VIQ    PIQ      BMI    ...     func_efc  \\\n",
       "171                NaN  105.0  108.0   99.0      NaN    ...     0.433332   \n",
       "697               -9.0   86.0   88.0   86.0    21.63    ...     0.528379   \n",
       "869                NaN   79.0   67.0   99.0      NaN    ...     0.528708   \n",
       "814               68.0  119.0  112.0  123.0 -9999.00    ...     0.534295   \n",
       "790               73.0  107.0  112.0   99.0    21.17    ...     0.535280   \n",
       "\n",
       "      func_fber  func_fwhm  func_dvars  func_outlier  func_quality  \\\n",
       "171  162.594506   2.202584    1.150549      0.006192      0.009893   \n",
       "697  115.786542   1.909761    1.069484      0.008498      0.016295   \n",
       "869   67.422244   2.170657    1.302950      0.012164      0.009947   \n",
       "814   78.296410   1.765660    1.018414      0.006217      0.014129   \n",
       "790  105.185145   1.728942    1.049717      0.006184      0.014243   \n",
       "\n",
       "     func_mean_fd  func_num_fd  func_perc_fd  func_gsr  \n",
       "171      0.110698         15.0      9.933775  0.019778  \n",
       "697      0.099712         10.0      5.524862 -0.007843  \n",
       "869      0.110340         37.0     15.352697  0.052731  \n",
       "814      0.032827          2.0      1.104972 -0.001329  \n",
       "790      0.034872          1.0      0.552486  0.000530  \n",
       "\n",
       "[5 rows x 28 columns]"
      ]
     },
     "execution_count": 285,
     "metadata": {},
     "output_type": "execute_result"
    }
   ],
   "source": [
    "os.chdir('/Users/annika/Documents/PhD/courses/Roche_Hackathon')\n",
    "data_test = pd.read_csv('data 2/test/test_share.csv', index_col=0)\n",
    "print(data_test.shape)\n",
    "data_test.head()"
   ]
  },
  {
   "cell_type": "code",
   "execution_count": 286,
   "metadata": {},
   "outputs": [],
   "source": [
    "def cleanup(df):\n",
    "    \n",
    "    df.loc[df.BMI==-9999,'BMI'] = np.nan\n",
    "    df.loc[df.HANDEDNESS_SCORES==-9999, 'HANDEDNESS_SCORES'] = np.nan\n",
    "    df.loc[df.HANDEDNESS_CATEGORY=='-9999', 'HANDEDNESS_CATEGORY'] = np.nan\n",
    "    df.loc[df.FIQ==-9999, 'FIQ'] = np.nan\n",
    "    df.loc[df.PIQ==-9999, 'PIQ'] = np.nan\n",
    "    df.loc[df.VIQ==-9999, 'VIQ'] = np.nan\n",
    "    \n",
    "    df.loc[df.HANDEDNESS_CATEGORY.isin(['Ambi', 'Mixed', 'L->R']), 'HANDEDNESS_CATEGORY'] = 'Ambi'\n",
    "    \n",
    "    df.loc[df.HANDEDNESS_SCORES > 50, 'HANDEDNESS_CATEGORY'] = 'R'\n",
    "    df.loc[df.HANDEDNESS_SCORES < -50, 'HANDEDNESS_CATEGORY'] = 'L'\n",
    "    df.loc[(df.HANDEDNESS_SCORES > -50) & (df.HANDEDNESS_SCORES < 50), 'HANDEDNESS_CATEGORY'] = 'Ambi'\n",
    "    \n",
    "    df.loc[df.HANDEDNESS_CATEGORY == 'R', 'HANDEDNESS_CATEGORY'] = 2 \n",
    "    df.loc[df.HANDEDNESS_CATEGORY == 'Ambi', 'HANDEDNESS_CATEGORY'] = 1\n",
    "    df.loc[df.HANDEDNESS_CATEGORY == 'L', 'HANDEDNESS_CATEGORY'] = 0 \n",
    "    \n",
    "    return df"
   ]
  },
  {
   "cell_type": "code",
   "execution_count": 287,
   "metadata": {},
   "outputs": [
    {
     "data": {
      "text/plain": [
       "subject                  0\n",
       "SITE_ID                  0\n",
       "AGE_AT_SCAN              0\n",
       "SEX                      0\n",
       "HANDEDNESS_CATEGORY      1\n",
       "HANDEDNESS_SCORES      114\n",
       "FIQ                      5\n",
       "VIQ                     24\n",
       "PIQ                     21\n",
       "BMI                    162\n",
       "fn_image_txt             0\n",
       "EYE_STATUS_AT_SCAN       0\n",
       "anat_cnr                 0\n",
       "anat_efc                 0\n",
       "anat_fber                0\n",
       "anat_fwhm                0\n",
       "anat_qi1                 0\n",
       "anat_snr                 0\n",
       "func_efc                 0\n",
       "func_fber                0\n",
       "func_fwhm                0\n",
       "func_dvars               0\n",
       "func_outlier             0\n",
       "func_quality             0\n",
       "func_mean_fd             0\n",
       "func_num_fd              0\n",
       "func_perc_fd             0\n",
       "func_gsr                 0\n",
       "dtype: int64"
      ]
     },
     "execution_count": 287,
     "metadata": {},
     "output_type": "execute_result"
    }
   ],
   "source": [
    "clean_test = cleanup(df=data_test)\n",
    "clean_test.isna().sum()"
   ]
  },
  {
   "cell_type": "code",
   "execution_count": 288,
   "metadata": {},
   "outputs": [],
   "source": [
    "exist_test = clean_test.dropna(subset=['FIQ', 'HANDEDNESS_CATEGORY'])"
   ]
  },
  {
   "cell_type": "markdown",
   "metadata": {},
   "source": [
    "### Predicting on test data using FIQ only"
   ]
  },
  {
   "cell_type": "code",
   "execution_count": 289,
   "metadata": {},
   "outputs": [],
   "source": [
    "learnDFv4 = exist[['DX_GROUP', 'FIQ']]\n",
    "\n",
    "label = learnDFv4['DX_GROUP']\n",
    "labels = np.ravel(np.c_[label])\n",
    "features = learnDFv4.drop('DX_GROUP', axis = 1)\n",
    "\n",
    "features_scaled = preprocessing.scale(features)\n",
    "\n",
    "# Use the whole data as training\n",
    "features_train, features_test, labels_train, labels_test = train_test_split(features_scaled, labels, \n",
    "                                test_size=0, random_state=42)\n",
    "\n",
    "# Get the actual features of the test data\n",
    "testdata_features = preprocessing.scale(exist_test[['FIQ']])"
   ]
  },
  {
   "cell_type": "code",
   "execution_count": 290,
   "metadata": {},
   "outputs": [],
   "source": [
    "clfsvm = SVC(probability=True)\n",
    "clfsvm.fit(features_train, labels_train)\n",
    "\n",
    "testdata_predSvc = clfsvm.predict_proba(testdata_features)\n",
    "testdata_probAsd, probHealthyTest = list(zip(*testdata_predSvc))\n",
    "testdata_probAsd = np.array(testdata_probAsd)\n",
    "testdata_probHealthy = np.array(testdata_probAsd)"
   ]
  },
  {
   "cell_type": "code",
   "execution_count": 291,
   "metadata": {
    "scrolled": true
   },
   "outputs": [
    {
     "data": {
      "text/html": [
       "<div>\n",
       "<style scoped>\n",
       "    .dataframe tbody tr th:only-of-type {\n",
       "        vertical-align: middle;\n",
       "    }\n",
       "\n",
       "    .dataframe tbody tr th {\n",
       "        vertical-align: top;\n",
       "    }\n",
       "\n",
       "    .dataframe thead th {\n",
       "        text-align: right;\n",
       "    }\n",
       "</style>\n",
       "<table border=\"1\" class=\"dataframe\">\n",
       "  <thead>\n",
       "    <tr style=\"text-align: right;\">\n",
       "      <th></th>\n",
       "      <th>subject</th>\n",
       "      <th>probability_of_ASD</th>\n",
       "    </tr>\n",
       "  </thead>\n",
       "  <tbody>\n",
       "    <tr>\n",
       "      <th>171</th>\n",
       "      <td>50246</td>\n",
       "      <td>0.392894</td>\n",
       "    </tr>\n",
       "    <tr>\n",
       "      <th>697</th>\n",
       "      <td>51009</td>\n",
       "      <td>0.686297</td>\n",
       "    </tr>\n",
       "    <tr>\n",
       "      <th>869</th>\n",
       "      <td>51191</td>\n",
       "      <td>0.677905</td>\n",
       "    </tr>\n",
       "    <tr>\n",
       "      <th>814</th>\n",
       "      <td>51131</td>\n",
       "      <td>0.382687</td>\n",
       "    </tr>\n",
       "    <tr>\n",
       "      <th>790</th>\n",
       "      <td>51107</td>\n",
       "      <td>0.383895</td>\n",
       "    </tr>\n",
       "    <tr>\n",
       "      <th>268</th>\n",
       "      <td>50345</td>\n",
       "      <td>0.382846</td>\n",
       "    </tr>\n",
       "    <tr>\n",
       "      <th>1077</th>\n",
       "      <td>51491</td>\n",
       "      <td>0.383188</td>\n",
       "    </tr>\n",
       "    <tr>\n",
       "      <th>1051</th>\n",
       "      <td>51465</td>\n",
       "      <td>0.569667</td>\n",
       "    </tr>\n",
       "    <tr>\n",
       "      <th>1037</th>\n",
       "      <td>51369</td>\n",
       "      <td>0.569667</td>\n",
       "    </tr>\n",
       "    <tr>\n",
       "      <th>664</th>\n",
       "      <td>50974</td>\n",
       "      <td>0.669792</td>\n",
       "    </tr>\n",
       "    <tr>\n",
       "      <th>899</th>\n",
       "      <td>51222</td>\n",
       "      <td>0.387169</td>\n",
       "    </tr>\n",
       "    <tr>\n",
       "      <th>542</th>\n",
       "      <td>50701</td>\n",
       "      <td>0.382944</td>\n",
       "    </tr>\n",
       "    <tr>\n",
       "      <th>730</th>\n",
       "      <td>51046</td>\n",
       "      <td>0.413706</td>\n",
       "    </tr>\n",
       "    <tr>\n",
       "      <th>413</th>\n",
       "      <td>50505</td>\n",
       "      <td>0.593505</td>\n",
       "    </tr>\n",
       "    <tr>\n",
       "      <th>224</th>\n",
       "      <td>50301</td>\n",
       "      <td>0.544246</td>\n",
       "    </tr>\n",
       "    <tr>\n",
       "      <th>957</th>\n",
       "      <td>51280</td>\n",
       "      <td>0.382944</td>\n",
       "    </tr>\n",
       "    <tr>\n",
       "      <th>954</th>\n",
       "      <td>51277</td>\n",
       "      <td>0.425573</td>\n",
       "    </tr>\n",
       "    <tr>\n",
       "      <th>866</th>\n",
       "      <td>51188</td>\n",
       "      <td>0.678162</td>\n",
       "    </tr>\n",
       "    <tr>\n",
       "      <th>771</th>\n",
       "      <td>51087</td>\n",
       "      <td>0.385330</td>\n",
       "    </tr>\n",
       "    <tr>\n",
       "      <th>788</th>\n",
       "      <td>51105</td>\n",
       "      <td>0.682079</td>\n",
       "    </tr>\n",
       "    <tr>\n",
       "      <th>640</th>\n",
       "      <td>50824</td>\n",
       "      <td>0.382944</td>\n",
       "    </tr>\n",
       "    <tr>\n",
       "      <th>346</th>\n",
       "      <td>50438</td>\n",
       "      <td>0.544246</td>\n",
       "    </tr>\n",
       "    <tr>\n",
       "      <th>793</th>\n",
       "      <td>51110</td>\n",
       "      <td>0.412997</td>\n",
       "    </tr>\n",
       "    <tr>\n",
       "      <th>27</th>\n",
       "      <td>50031</td>\n",
       "      <td>0.387110</td>\n",
       "    </tr>\n",
       "    <tr>\n",
       "      <th>207</th>\n",
       "      <td>50284</td>\n",
       "      <td>0.385330</td>\n",
       "    </tr>\n",
       "    <tr>\n",
       "      <th>538</th>\n",
       "      <td>50697</td>\n",
       "      <td>0.447645</td>\n",
       "    </tr>\n",
       "    <tr>\n",
       "      <th>1042</th>\n",
       "      <td>51456</td>\n",
       "      <td>0.425573</td>\n",
       "    </tr>\n",
       "    <tr>\n",
       "      <th>728</th>\n",
       "      <td>51044</td>\n",
       "      <td>0.387110</td>\n",
       "    </tr>\n",
       "    <tr>\n",
       "      <th>215</th>\n",
       "      <td>50292</td>\n",
       "      <td>0.676997</td>\n",
       "    </tr>\n",
       "    <tr>\n",
       "      <th>433</th>\n",
       "      <td>50525</td>\n",
       "      <td>0.387110</td>\n",
       "    </tr>\n",
       "    <tr>\n",
       "      <th>...</th>\n",
       "      <td>...</td>\n",
       "      <td>...</td>\n",
       "    </tr>\n",
       "    <tr>\n",
       "      <th>110</th>\n",
       "      <td>50161</td>\n",
       "      <td>0.401672</td>\n",
       "    </tr>\n",
       "    <tr>\n",
       "      <th>633</th>\n",
       "      <td>50817</td>\n",
       "      <td>0.382687</td>\n",
       "    </tr>\n",
       "    <tr>\n",
       "      <th>662</th>\n",
       "      <td>50972</td>\n",
       "      <td>0.469106</td>\n",
       "    </tr>\n",
       "    <tr>\n",
       "      <th>953</th>\n",
       "      <td>51276</td>\n",
       "      <td>0.392894</td>\n",
       "    </tr>\n",
       "    <tr>\n",
       "      <th>271</th>\n",
       "      <td>50348</td>\n",
       "      <td>0.386902</td>\n",
       "    </tr>\n",
       "    <tr>\n",
       "      <th>742</th>\n",
       "      <td>51058</td>\n",
       "      <td>0.386489</td>\n",
       "    </tr>\n",
       "    <tr>\n",
       "      <th>724</th>\n",
       "      <td>51039</td>\n",
       "      <td>0.608700</td>\n",
       "    </tr>\n",
       "    <tr>\n",
       "      <th>535</th>\n",
       "      <td>50694</td>\n",
       "      <td>0.382944</td>\n",
       "    </tr>\n",
       "    <tr>\n",
       "      <th>838</th>\n",
       "      <td>51160</td>\n",
       "      <td>0.518292</td>\n",
       "    </tr>\n",
       "    <tr>\n",
       "      <th>648</th>\n",
       "      <td>50957</td>\n",
       "      <td>0.677905</td>\n",
       "    </tr>\n",
       "    <tr>\n",
       "      <th>317</th>\n",
       "      <td>50404</td>\n",
       "      <td>0.484575</td>\n",
       "    </tr>\n",
       "    <tr>\n",
       "      <th>611</th>\n",
       "      <td>50795</td>\n",
       "      <td>0.648686</td>\n",
       "    </tr>\n",
       "    <tr>\n",
       "      <th>465</th>\n",
       "      <td>50575</td>\n",
       "      <td>0.383188</td>\n",
       "    </tr>\n",
       "    <tr>\n",
       "      <th>319</th>\n",
       "      <td>50406</td>\n",
       "      <td>0.665645</td>\n",
       "    </tr>\n",
       "    <tr>\n",
       "      <th>344</th>\n",
       "      <td>50436</td>\n",
       "      <td>0.425573</td>\n",
       "    </tr>\n",
       "    <tr>\n",
       "      <th>217</th>\n",
       "      <td>50294</td>\n",
       "      <td>0.413706</td>\n",
       "    </tr>\n",
       "    <tr>\n",
       "      <th>349</th>\n",
       "      <td>50441</td>\n",
       "      <td>0.394647</td>\n",
       "    </tr>\n",
       "    <tr>\n",
       "      <th>527</th>\n",
       "      <td>50686</td>\n",
       "      <td>0.648686</td>\n",
       "    </tr>\n",
       "    <tr>\n",
       "      <th>668</th>\n",
       "      <td>50978</td>\n",
       "      <td>0.667964</td>\n",
       "    </tr>\n",
       "    <tr>\n",
       "      <th>948</th>\n",
       "      <td>51271</td>\n",
       "      <td>0.387169</td>\n",
       "    </tr>\n",
       "    <tr>\n",
       "      <th>745</th>\n",
       "      <td>51061</td>\n",
       "      <td>0.382944</td>\n",
       "    </tr>\n",
       "    <tr>\n",
       "      <th>160</th>\n",
       "      <td>50235</td>\n",
       "      <td>0.382687</td>\n",
       "    </tr>\n",
       "    <tr>\n",
       "      <th>178</th>\n",
       "      <td>50253</td>\n",
       "      <td>0.492914</td>\n",
       "    </tr>\n",
       "    <tr>\n",
       "      <th>1071</th>\n",
       "      <td>51485</td>\n",
       "      <td>0.394647</td>\n",
       "    </tr>\n",
       "    <tr>\n",
       "      <th>813</th>\n",
       "      <td>51130</td>\n",
       "      <td>0.383895</td>\n",
       "    </tr>\n",
       "    <tr>\n",
       "      <th>898</th>\n",
       "      <td>51221</td>\n",
       "      <td>0.681330</td>\n",
       "    </tr>\n",
       "    <tr>\n",
       "      <th>974</th>\n",
       "      <td>51305</td>\n",
       "      <td>0.429071</td>\n",
       "    </tr>\n",
       "    <tr>\n",
       "      <th>95</th>\n",
       "      <td>50144</td>\n",
       "      <td>0.384000</td>\n",
       "    </tr>\n",
       "    <tr>\n",
       "      <th>293</th>\n",
       "      <td>50370</td>\n",
       "      <td>0.624555</td>\n",
       "    </tr>\n",
       "    <tr>\n",
       "      <th>47</th>\n",
       "      <td>50051</td>\n",
       "      <td>0.383895</td>\n",
       "    </tr>\n",
       "  </tbody>\n",
       "</table>\n",
       "<p>178 rows × 2 columns</p>\n",
       "</div>"
      ],
      "text/plain": [
       "      subject  probability_of_ASD\n",
       "171     50246            0.392894\n",
       "697     51009            0.686297\n",
       "869     51191            0.677905\n",
       "814     51131            0.382687\n",
       "790     51107            0.383895\n",
       "268     50345            0.382846\n",
       "1077    51491            0.383188\n",
       "1051    51465            0.569667\n",
       "1037    51369            0.569667\n",
       "664     50974            0.669792\n",
       "899     51222            0.387169\n",
       "542     50701            0.382944\n",
       "730     51046            0.413706\n",
       "413     50505            0.593505\n",
       "224     50301            0.544246\n",
       "957     51280            0.382944\n",
       "954     51277            0.425573\n",
       "866     51188            0.678162\n",
       "771     51087            0.385330\n",
       "788     51105            0.682079\n",
       "640     50824            0.382944\n",
       "346     50438            0.544246\n",
       "793     51110            0.412997\n",
       "27      50031            0.387110\n",
       "207     50284            0.385330\n",
       "538     50697            0.447645\n",
       "1042    51456            0.425573\n",
       "728     51044            0.387110\n",
       "215     50292            0.676997\n",
       "433     50525            0.387110\n",
       "...       ...                 ...\n",
       "110     50161            0.401672\n",
       "633     50817            0.382687\n",
       "662     50972            0.469106\n",
       "953     51276            0.392894\n",
       "271     50348            0.386902\n",
       "742     51058            0.386489\n",
       "724     51039            0.608700\n",
       "535     50694            0.382944\n",
       "838     51160            0.518292\n",
       "648     50957            0.677905\n",
       "317     50404            0.484575\n",
       "611     50795            0.648686\n",
       "465     50575            0.383188\n",
       "319     50406            0.665645\n",
       "344     50436            0.425573\n",
       "217     50294            0.413706\n",
       "349     50441            0.394647\n",
       "527     50686            0.648686\n",
       "668     50978            0.667964\n",
       "948     51271            0.387169\n",
       "745     51061            0.382944\n",
       "160     50235            0.382687\n",
       "178     50253            0.492914\n",
       "1071    51485            0.394647\n",
       "813     51130            0.383895\n",
       "898     51221            0.681330\n",
       "974     51305            0.429071\n",
       "95      50144            0.384000\n",
       "293     50370            0.624555\n",
       "47      50051            0.383895\n",
       "\n",
       "[178 rows x 2 columns]"
      ]
     },
     "execution_count": 291,
     "metadata": {},
     "output_type": "execute_result"
    }
   ],
   "source": [
    "answer = pd.DataFrame({'subject': exist_test.subject, 'probability_of_ASD':testdata_probAsd})\n",
    "answer"
   ]
  }
 ],
 "metadata": {
  "kernelspec": {
   "display_name": "Python 3",
   "language": "python",
   "name": "python3"
  },
  "language_info": {
   "codemirror_mode": {
    "name": "ipython",
    "version": 3
   },
   "file_extension": ".py",
   "mimetype": "text/x-python",
   "name": "python",
   "nbconvert_exporter": "python",
   "pygments_lexer": "ipython3",
   "version": "3.6.0"
  }
 },
 "nbformat": 4,
 "nbformat_minor": 2
}
